{
 "cells": [
  {
   "cell_type": "code",
   "execution_count": 59,
   "metadata": {},
   "outputs": [],
   "source": [
    "import numpy as np\n",
    "import pandas as pd\n",
    "import math"
   ]
  },
  {
   "cell_type": "code",
   "execution_count": 60,
   "metadata": {},
   "outputs": [
    {
     "data": {
      "text/plain": [
       "(1000, 1)"
      ]
     },
     "execution_count": 60,
     "metadata": {},
     "output_type": "execute_result"
    }
   ],
   "source": [
    "df = pd.read_csv('em_data.txt', header=None)\n",
    "df.shape"
   ]
  },
  {
   "cell_type": "code",
   "execution_count": 61,
   "metadata": {},
   "outputs": [],
   "source": [
    "maxVal = df.max().max()\n",
    "minVal = df.min().min()"
   ]
  },
  {
   "cell_type": "code",
   "execution_count": 62,
   "metadata": {},
   "outputs": [],
   "source": [
    "num_dist = 2\n",
    "np.random.seed(42)\n",
    "lembda = np.random.uniform(minVal, maxVal, size=(num_dist,))\n",
    "\n",
    "weight = np.random.uniform(size=(num_dist,))\n",
    "\n",
    "weight /= np.sum(weight)"
   ]
  },
  {
   "cell_type": "code",
   "execution_count": 63,
   "metadata": {},
   "outputs": [],
   "source": [
    "def poisson(lem, k):\n",
    "    return ((lem ** k)* math.exp(-lem)) / math.factorial(k)"
   ]
  },
  {
   "cell_type": "code",
   "execution_count": 64,
   "metadata": {},
   "outputs": [
    {
     "name": "stdout",
     "output_type": "stream",
     "text": [
      "Final weights: [0.3560085 0.6439915]\n",
      "Final lambda values: [1.7823928  4.91070614]\n"
     ]
    }
   ],
   "source": [
    "data = df.values.flatten()\n",
    "\n",
    "for _ in range(1000):\n",
    "    poisson_probs = np.array([[poisson(l, k) for l in lembda] for k in data])\n",
    "    numerators = poisson_probs * weight\n",
    "    denominators = np.sum(numerators, axis=1)\n",
    "    responsibility = numerators / denominators[:, None]\n",
    "\n",
    "    new_weight = np.sum(responsibility, axis=0) / np.sum(responsibility)\n",
    "    new_lembda = np.sum(responsibility * data[:, None], axis=0) / np.sum(responsibility, axis=0)\n",
    "\n",
    "    if(np.all(np.abs(lembda - new_lembda) < 1e-6)) and (np.all(np.abs(weight - new_weight) < 1e-6)):\n",
    "        break\n",
    "\n",
    "    lembda = new_lembda\n",
    "    weight = new_weight\n",
    "\n",
    "print(\"Final weights:\", weight)\n",
    "print(\"Final lambda values:\", lembda)"
   ]
  }
 ],
 "metadata": {
  "kernelspec": {
   "display_name": "pytorch_env",
   "language": "python",
   "name": "python3"
  },
  "language_info": {
   "codemirror_mode": {
    "name": "ipython",
    "version": 3
   },
   "file_extension": ".py",
   "mimetype": "text/x-python",
   "name": "python",
   "nbconvert_exporter": "python",
   "pygments_lexer": "ipython3",
   "version": "3.9.19"
  }
 },
 "nbformat": 4,
 "nbformat_minor": 2
}
