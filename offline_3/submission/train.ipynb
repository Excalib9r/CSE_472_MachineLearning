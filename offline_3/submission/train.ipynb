{
 "cells": [
  {
   "cell_type": "code",
   "execution_count": 1,
   "metadata": {},
   "outputs": [],
   "source": [
    "import torch\n",
    "from torch.utils.data import DataLoader\n",
    "from torchvision import datasets, transforms\n",
    "from Network2 import Network\n",
    "import numpy as np"
   ]
  },
  {
   "cell_type": "code",
   "execution_count": 2,
   "metadata": {},
   "outputs": [],
   "source": [
    "# Define transformations\n",
    "transform = transforms.ToTensor()\n",
    "\n",
    "# Load datasets\n",
    "train_data = datasets.FashionMNIST(root='data', train=True, download=True, transform=transform)\n",
    "test_data = datasets.FashionMNIST(root='data', train=False, download=True, transform=transform)\n",
    "\n",
    "# Create data loaders\n",
    "train_loader = DataLoader(train_data, batch_size=64, shuffle=True)\n",
    "test_loader = DataLoader(test_data, batch_size=64, shuffle=False)"
   ]
  },
  {
   "cell_type": "code",
   "execution_count": 6,
   "metadata": {},
   "outputs": [
    {
     "name": "stdout",
     "output_type": "stream",
     "text": [
      "Epoch 1, Cost: 663.8729126293379, Accuracy: 82.39%\n",
      "Epoch 2, Cost: 427.8306632277047, Accuracy: 83.94%\n",
      "Epoch 3, Cost: 382.835250786094, Accuracy: 85.22%\n",
      "Epoch 4, Cost: 355.6583598322177, Accuracy: 85.57%\n",
      "Epoch 5, Cost: 335.76606016880766, Accuracy: 85.95%\n",
      "Epoch 6, Cost: 321.055743132802, Accuracy: 86.53%\n",
      "Epoch 7, Cost: 308.11868580030415, Accuracy: 86.86%\n",
      "Epoch 8, Cost: 296.11388683392306, Accuracy: 86.81%\n",
      "Epoch 9, Cost: 286.88092360884855, Accuracy: 87.12%\n",
      "Epoch 10, Cost: 276.15543863902457, Accuracy: 87.03%\n",
      "Epoch 11, Cost: 269.008083161407, Accuracy: 87.13%\n",
      "Epoch 12, Cost: 261.75169819536234, Accuracy: 87.0%\n",
      "Epoch 13, Cost: 254.34572616270407, Accuracy: 87.5%\n",
      "Epoch 14, Cost: 247.49286472029212, Accuracy: 87.3%\n",
      "Epoch 15, Cost: 242.0703387331094, Accuracy: 87.62%\n",
      "Epoch 16, Cost: 235.41807943493586, Accuracy: 87.78%\n",
      "Epoch 17, Cost: 229.28658637922072, Accuracy: 87.23%\n",
      "Epoch 18, Cost: 224.93936174514138, Accuracy: 87.76%\n",
      "Epoch 19, Cost: 220.768905599458, Accuracy: 88.05%\n",
      "Epoch 20, Cost: 214.87736156627247, Accuracy: 87.72%\n",
      "Epoch 21, Cost: 210.16516055129412, Accuracy: 88.07%\n",
      "Epoch 22, Cost: 205.51548142210046, Accuracy: 87.98%\n",
      "Epoch 23, Cost: 200.7481970810939, Accuracy: 87.91%\n",
      "Epoch 24, Cost: 196.21413282242517, Accuracy: 88.25%\n",
      "Epoch 25, Cost: 192.9635122666528, Accuracy: 88.41%\n",
      "Epoch 26, Cost: 188.0901223433744, Accuracy: 88.42%\n",
      "Epoch 27, Cost: 184.39389503760611, Accuracy: 88.36%\n",
      "Epoch 28, Cost: 180.4843581701201, Accuracy: 88.15%\n",
      "Epoch 29, Cost: 175.94593368137862, Accuracy: 88.3%\n",
      "Epoch 30, Cost: 172.99354735153656, Accuracy: 88.15%\n",
      "Epoch 31, Cost: 169.91547863334932, Accuracy: 88.44%\n",
      "Epoch 32, Cost: 165.55805993482505, Accuracy: 88.44%\n",
      "Epoch 33, Cost: 163.38341376061683, Accuracy: 87.44%\n",
      "Epoch 34, Cost: 160.37225657516018, Accuracy: 88.06%\n",
      "Epoch 35, Cost: 157.47562656596088, Accuracy: 88.3%\n"
     ]
    }
   ],
   "source": [
    "import numpy as np\n",
    "import torch\n",
    "\n",
    "layers = [784, 128, 10]  # Example layer sizes\n",
    "network = Network(layers, drop_out=0.3)\n",
    "\n",
    "# Training loop\n",
    "costs = []\n",
    "accuracies = []\n",
    "for epoch in range(35):  # Example number of epochs\n",
    "    epoch_cost = 0\n",
    "    for images, labels in train_loader:\n",
    "        images = images.view(images.shape[0], -1)  # Flatten images\n",
    "        labels = labels.numpy()\n",
    "        labels_one_hot = np.eye(10)[labels]\n",
    "        network.forward(images)\n",
    "        cost = network.calculateCost(labels_one_hot)\n",
    "        network.backward(labels_one_hot)\n",
    "        epoch_cost += cost\n",
    "    costs.append(epoch_cost)\n",
    "    \n",
    "    # Evaluation after each epoch\n",
    "    correct = 0\n",
    "    total = 0\n",
    "    with torch.no_grad():\n",
    "        for images, labels in test_loader:\n",
    "            images = images.view(images.shape[0], -1)\n",
    "            outputs = network.classify(images)\n",
    "            total += labels.size(0)\n",
    "            correct += (outputs == labels).sum().item()\n",
    "        accuracy = 100 * correct / total\n",
    "        accuracies.append(accuracy)\n",
    "        print(f'Epoch {epoch+1}, Cost: {epoch_cost}, Accuracy: {accuracy}%')\n"
   ]
  },
  {
   "cell_type": "code",
   "execution_count": null,
   "metadata": {},
   "outputs": [
    {
     "name": "stdout",
     "output_type": "stream",
     "text": [
      "Epoch 1, Cost: 753.3126513159398, Accuracy: 82.23%\n",
      "Epoch 2, Cost: 441.5944020285977, Accuracy: 84.6%\n",
      "Epoch 3, Cost: 378.9220434077545, Accuracy: 85.42%\n",
      "Epoch 4, Cost: 344.82947108420507, Accuracy: 86.16%\n",
      "Epoch 5, Cost: 321.67382721566736, Accuracy: 86.96%\n",
      "Epoch 6, Cost: 303.2647042728881, Accuracy: 87.11%\n",
      "Epoch 7, Cost: 289.26724924882643, Accuracy: 87.6%\n",
      "Epoch 8, Cost: 276.66274848868363, Accuracy: 87.37%\n",
      "Epoch 9, Cost: 265.2627879804046, Accuracy: 87.77%\n"
     ]
    }
   ],
   "source": [
    "import numpy as np\n",
    "import torch\n",
    "\n",
    "layers = [784, 128, 64, 10]  # Example layer sizes\n",
    "network = Network(layers, drop_out=0.3)\n",
    "\n",
    "# Training loop\n",
    "costs = []\n",
    "accuracies = []\n",
    "for epoch in range(35):  # Example number of epochs\n",
    "    epoch_cost = 0\n",
    "    for images, labels in train_loader:\n",
    "        images = images.view(images.shape[0], -1)  # Flatten images\n",
    "        labels = labels.numpy()\n",
    "        labels_one_hot = np.eye(10)[labels]\n",
    "        network.forward(images)\n",
    "        cost = network.calculateCost(labels_one_hot)\n",
    "        network.backward(labels_one_hot)\n",
    "        epoch_cost += cost\n",
    "    costs.append(epoch_cost)\n",
    "    \n",
    "    # Evaluation after each epoch\n",
    "    correct = 0\n",
    "    total = 0\n",
    "    with torch.no_grad():\n",
    "        for images, labels in test_loader:\n",
    "            images = images.view(images.shape[0], -1)\n",
    "            outputs = network.classify(images)\n",
    "            total += labels.size(0)\n",
    "            correct += (outputs == labels).sum().item()\n",
    "        accuracy = 100 * correct / total\n",
    "        accuracies.append(accuracy)\n",
    "        print(f'Epoch {epoch+1}, Cost: {epoch_cost}, Accuracy: {accuracy}%')"
   ]
  }
 ],
 "metadata": {
  "kernelspec": {
   "display_name": "pytorch_env",
   "language": "python",
   "name": "python3"
  },
  "language_info": {
   "codemirror_mode": {
    "name": "ipython",
    "version": 3
   },
   "file_extension": ".py",
   "mimetype": "text/x-python",
   "name": "python",
   "nbconvert_exporter": "python",
   "pygments_lexer": "ipython3",
   "version": "3.9.19"
  }
 },
 "nbformat": 4,
 "nbformat_minor": 2
}
