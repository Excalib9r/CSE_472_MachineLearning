{
 "cells": [
  {
   "cell_type": "code",
   "execution_count": 35,
   "metadata": {},
   "outputs": [],
   "source": [
    "import pandas as pd\n",
    "import numpy as np\n",
    "import matplotlib.pyplot as plt\n",
    "from sklearn.preprocessing import LabelEncoder\n",
    "from sklearn.model_selection import train_test_split\n",
    "from sklearn.preprocessing import MinMaxScaler\n",
    "from sklearn.preprocessing import StandardScaler\n",
    "from sklearn.metrics import accuracy_score, recall_score, precision_score, f1_score, roc_auc_score, average_precision_score, confusion_matrix\n",
    "from sklearn.utils import resample"
   ]
  },
  {
   "cell_type": "code",
   "execution_count": 36,
   "metadata": {},
   "outputs": [],
   "source": [
    "# 2nd cell ................................\n",
    "\n",
    "\n",
    "# only install the package if it is not already installed\n",
    "# !pip install ucimlrepo\n",
    "# !pip install seaborn\n",
    "from ucimlrepo import fetch_ucirepo "
   ]
  },
  {
   "cell_type": "code",
   "execution_count": 37,
   "metadata": {},
   "outputs": [],
   "source": [
    "class LogisticRegression:\n",
    "    def __init__ (self, lr=0.0001, iter=1000, tol=1e-6):\n",
    "        self.lr = lr\n",
    "        self.iter = iter\n",
    "        self.weights = None\n",
    "        self.tol = tol\n",
    "    \n",
    "    def sigmoid(self, x):\n",
    "        return 1 / (1 + np.exp(-x))\n",
    "    \n",
    "    def update_weights(self, X, y):\n",
    "        y_pred = self.sigmoid(np.dot(X, self.weights))\n",
    "        error = y - y_pred\n",
    "        gradient = np.dot(X.T, error)\n",
    "        self.weights += self.lr * gradient\n",
    "\n",
    "    def train(self, X, y):\n",
    "        n_samples, n_features = X.shape\n",
    "        X = np.hstack((np.ones((n_samples, 1)), X))\n",
    "        self.weights = np.zeros(n_features + 1)\n",
    "        for _ in range(self.iter):\n",
    "            self.update_weights(X, y)\n",
    "            \n",
    "    def predict(self, X, final=True):\n",
    "        X = np.hstack((np.ones((X.shape[0], 1)), X))\n",
    "        if final:\n",
    "            return np.round(self.sigmoid(np.dot(X, self.weights)))\n",
    "        return self.sigmoid(np.dot(X, self.weights))"
   ]
  },
  {
   "cell_type": "code",
   "execution_count": 38,
   "metadata": {},
   "outputs": [],
   "source": [
    "class Bagging:\n",
    "    def __init__ (self, base_estimator = LogisticRegression, n_estimators=9, random_state=42, sample_size=0.9):\n",
    "        self.base_estimator = base_estimator\n",
    "        self.n_estimators = n_estimators\n",
    "        self.random_state = random_state\n",
    "        self.sample_size = sample_size\n",
    "        self.estimators_ = []\n",
    "    \n",
    "    def train(self, X, y):\n",
    "        self.estimators_ = []\n",
    "        np.random.seed(self.random_state)  \n",
    "        for _ in range(self.n_estimators):\n",
    "            estimator = self.base_estimator()\n",
    "            X_resampled, y_resampled = resample(X, y, n_samples=int(self.sample_size * X.shape[0]))\n",
    "            estimator.train(X_resampled, y_resampled)\n",
    "            self.estimators_.append(estimator)\n",
    "    \n",
    "    def predict(self, X, final=True):\n",
    "        predictions = []\n",
    "        for estimator in self.estimators_:\n",
    "            predictions.append(estimator.predict(X, final))\n",
    "        predictions = np.array(predictions)\n",
    "        return predictions\n",
    "    \n",
    "    def predict_majority(self, X, final=True):\n",
    "        predictions = self.predict(X, final)\n",
    "        majority_votes = []\n",
    "        for i in range(predictions.shape[1]):\n",
    "            feature_predictions = predictions[:, i].astype(int)\n",
    "            majority_vote = np.argmax(np.bincount(feature_predictions))\n",
    "            majority_votes.append(majority_vote)\n",
    "        return np.array(majority_votes)\n",
    "    \n",
    "    def predict_prob(self, X):\n",
    "        predictions = self.predict(X, final=False)\n",
    "        return np.mean(predictions, axis=0)"
   ]
  },
  {
   "cell_type": "code",
   "execution_count": 39,
   "metadata": {},
   "outputs": [],
   "source": [
    "class Stacking:\n",
    "    def __init__ (self, base_estimator = LogisticRegression, meta_estimator= LogisticRegression):\n",
    "        self.base_estimators = base_estimator\n",
    "        self.meta_estimator = meta_estimator\n",
    "        self.meta_model = None\n",
    "        self.base_models = None\n",
    "\n",
    "    def train(self, X, y, X_meta, y_meta):\n",
    "        self.base_models = Bagging(self.base_estimators, n_estimators=9)\n",
    "        self.base_models.train(X, y)\n",
    "        meta_samples = self.base_models.predict(X_meta, False).T\n",
    "        meta_samples = np.hstack([ X_meta , meta_samples])\n",
    "        self.meta_model = self.meta_estimator()\n",
    "        self.meta_model.train(meta_samples, y_meta)\n",
    "\n",
    "    def predict(self, X, final=True):\n",
    "        meta_samples = self.base_models.predict(X, False).T\n",
    "        meta_samples = np.hstack([X, meta_samples])\n",
    "        prediction = self.meta_model.predict(meta_samples, final)\n",
    "        return prediction"
   ]
  },
  {
   "cell_type": "code",
   "execution_count": 40,
   "metadata": {},
   "outputs": [],
   "source": [
    "# 6th cell ................................\n",
    "\n",
    "\n",
    "def scaling(scalingmethod):\n",
    "    if scalingmethod == 'minmax':\n",
    "        return MinMaxScaler()\n",
    "    elif scalingmethod == 'standard':\n",
    "        return StandardScaler()\n",
    "    else:\n",
    "        raise ValueError(\"Invalid scaling method. Choose 'minmax' or 'standard'.\")\n",
    "\n",
    "scaler = scaling('minmax')"
   ]
  },
  {
   "cell_type": "markdown",
   "metadata": {},
   "source": [
    "## Choose only one dataset to work with"
   ]
  },
  {
   "cell_type": "markdown",
   "metadata": {},
   "source": [
    "### Function for Dataset One"
   ]
  },
  {
   "cell_type": "code",
   "execution_count": 41,
   "metadata": {},
   "outputs": [],
   "source": [
    "def getDataSetOne():\n",
    "    dataframe = pd.read_csv(\"WA_Fn-UseC_-Telco-Customer-Churn.csv\")\n",
    "    dataframe.drop(columns='customerID', inplace=True)\n",
    "    dataframe.drop_duplicates(inplace=True)\n",
    "\n",
    "    features = dataframe.drop('Churn', axis=1)\n",
    "    labels = dataframe['Churn']\n",
    "\n",
    "    # Step 1: Remove leading/trailing spaces\n",
    "    features['TotalCharges'] = features['TotalCharges'].str.strip()\n",
    "    # Step 2: Remove any non-numeric characters (except for the decimal point)\n",
    "    features['TotalCharges'] = features['TotalCharges'].str.replace(r'[^\\d.]+', '', regex=True)\n",
    "    # Step 3: Convert to numeric, coercing errors to NaN\n",
    "    features['TotalCharges'] = pd.to_numeric(features['TotalCharges'], errors='coerce')\n",
    "    # Step 4: Calculate the mean of the column, ignoring NaN values\n",
    "    mean_total_charges = features['TotalCharges'].mean()\n",
    "    # Step 5: Replace NaN values with the calculated mean\n",
    "\n",
    "    features['TotalCharges'].fillna(mean_total_charges, inplace=True)\n",
    "    numeric_collums = features.select_dtypes(include=['number']).columns\n",
    "\n",
    "    encoder = LabelEncoder()\n",
    "    for column in features.columns:\n",
    "        unique_values = features[column].unique()\n",
    "        if len(unique_values) == 2:\n",
    "            features[column] = encoder.fit_transform(features[column])\n",
    "    labels = encoder.fit_transform(labels)\n",
    "    labels = pd.Series(labels)\n",
    "    non_numeric_columns = features.select_dtypes(exclude=['number']).columns\n",
    "    for col in non_numeric_columns:\n",
    "        features[col] = features[col].astype('category')\n",
    "    features = pd.get_dummies(features)\n",
    "    for column in features.select_dtypes(include=['bool']).columns:\n",
    "        features[column] = features[column].astype(int)\n",
    "    return features, labels, numeric_collums"
   ]
  },
  {
   "cell_type": "markdown",
   "metadata": {},
   "source": [
    "### Function for Dataset Two"
   ]
  },
  {
   "cell_type": "code",
   "execution_count": 42,
   "metadata": {},
   "outputs": [],
   "source": [
    "def getDataSetTwo():\n",
    "    adult = fetch_ucirepo(id=2) \n",
    "    X = adult.data.features \n",
    "    y = adult.data.targets \n",
    "\n",
    "    numeric_collums = X.select_dtypes(include=['number']).columns\n",
    "\n",
    "    encoder = LabelEncoder()\n",
    "    X['sex'] = encoder.fit_transform(X['sex'])\n",
    "    y['income'] = y['income'].replace({\"<=50K\": 0, \"<=50K.\": 0, \">50K\": 1, \">50K.\": 1})\n",
    "    y['income'] = y['income'].astype(int)\n",
    "    y = y.to_numpy().ravel()\n",
    "    y = pd.Series(y)\n",
    "\n",
    "    object_columns = X.select_dtypes(include=['object']).columns\n",
    "\n",
    "    for column in X.columns:\n",
    "        if X[column].isnull().any():\n",
    "            mode_value = X[column].mode()[0]\n",
    "            X[column].fillna(mode_value, inplace=True)\n",
    "\n",
    "    for col in object_columns:\n",
    "        X[col] = X[col].astype('category')\n",
    "\n",
    "    X = pd.get_dummies(X)\n",
    "    if X.select_dtypes(include=['bool']).any().any():\n",
    "        X = X.astype('int64')\n",
    "\n",
    "    return X, y, numeric_collums"
   ]
  },
  {
   "cell_type": "markdown",
   "metadata": {},
   "source": [
    "### Function for Dataset Three"
   ]
  },
  {
   "cell_type": "code",
   "execution_count": 43,
   "metadata": {},
   "outputs": [],
   "source": [
    "def getDataSetThree():\n",
    "    dataframe = pd.read_csv(\"creditcard.csv\")\n",
    "    dataframe.drop_duplicates(inplace=True)\n",
    "    negative = dataframe[dataframe[\"Class\"] == 0]\n",
    "    postive = dataframe[dataframe[\"Class\"] == 1]\n",
    "\n",
    "    negative_sampled = negative.sample(n = 20000, random_state=42)\n",
    "    all_sampled = pd.concat([negative_sampled, postive])\n",
    "\n",
    "    dataframe = all_sampled.sample(frac=1).reset_index(drop=True)\n",
    "    numeric_collums = ['Time', 'Amount']\n",
    "    features = dataframe.drop('Class', axis=1)\n",
    "    labels = dataframe['Class']\n",
    "    \n",
    "    return features, labels, numeric_collums"
   ]
  },
  {
   "cell_type": "code",
   "execution_count": 44,
   "metadata": {},
   "outputs": [],
   "source": [
    "def getDataSet(num):\n",
    "    if num == 1:\n",
    "        return getDataSetOne()\n",
    "    elif num == 2:\n",
    "        return getDataSetTwo()\n",
    "    elif num == 3:\n",
    "        return getDataSetThree()"
   ]
  },
  {
   "cell_type": "markdown",
   "metadata": {},
   "source": [
    "#### For first dataset set Parameter of getDataset to 1, for Second dataset 2 and for third dataset 3."
   ]
  },
  {
   "cell_type": "code",
   "execution_count": 45,
   "metadata": {},
   "outputs": [
    {
     "name": "stderr",
     "output_type": "stream",
     "text": [
      "C:\\Users\\Excalibur\\AppData\\Local\\Temp\\ipykernel_14372\\3361114007.py:19: FutureWarning: A value is trying to be set on a copy of a DataFrame or Series through chained assignment using an inplace method.\n",
      "The behavior will change in pandas 3.0. This inplace method will never work because the intermediate object on which we are setting values always behaves as a copy.\n",
      "\n",
      "For example, when doing 'df[col].method(value, inplace=True)', try using 'df.method({col: value}, inplace=True)' or df[col] = df[col].method(value) instead, to perform the operation inplace on the original object.\n",
      "\n",
      "\n",
      "  features['TotalCharges'].fillna(mean_total_charges, inplace=True)\n"
     ]
    }
   ],
   "source": [
    "# 11th cell ................................\n",
    "\n",
    "# for first dataset 1\n",
    "# for second dataset 2\n",
    "# for third dataset 3\n",
    "features, labels, numeric_collums = getDataSet(1)"
   ]
  },
  {
   "cell_type": "markdown",
   "metadata": {},
   "source": [
    "#### for first dataset set parameter of nlargest function to 20, for second set 30 and for third set 20"
   ]
  },
  {
   "cell_type": "code",
   "execution_count": 46,
   "metadata": {},
   "outputs": [],
   "source": [
    "# 12th cell ................................\n",
    "\n",
    "to_scale_features = features[numeric_collums]\n",
    "scaled_features = scaler.fit_transform(to_scale_features)\n",
    "features[numeric_collums] = scaled_features\n",
    "\n",
    "stddev = features.std()\n",
    "zero_stdev = stddev[stddev == 0].index\n",
    "features_correlations = features.drop(zero_stdev, axis=1)\n",
    "\n",
    "correlations = features_correlations.corrwith(labels)\n",
    "correlations = correlations.abs()\n",
    "# for first dataset set 20\n",
    "# for second dataset set 30\n",
    "# for third dataset set 20\n",
    "correlations = correlations.nlargest(20)\n",
    "\n",
    "features = features[correlations.index]"
   ]
  },
  {
   "cell_type": "markdown",
   "metadata": {},
   "source": [
    "## Logistic Regression "
   ]
  },
  {
   "cell_type": "code",
   "execution_count": 47,
   "metadata": {},
   "outputs": [
    {
     "name": "stdout",
     "output_type": "stream",
     "text": [
      "Accuracy of Logistic Regression classifier: 0.7943\n",
      "Sensitivity (Recall): 0.5227\n",
      "Specificity: 0.8851\n",
      "Precision: 0.6033\n",
      "F1-score: 0.5601\n",
      "AUROC: 0.8446\n",
      "AUPR: 0.6131\n"
     ]
    }
   ],
   "source": [
    "X_train, X_test, y_train, y_test = train_test_split(features, labels, test_size=0.2, random_state=42)\n",
    "y_train = y_train.to_numpy().ravel()\n",
    "y_test = y_test.to_numpy().ravel()\n",
    "\n",
    "clf = LogisticRegression()\n",
    "clf.train(X_train, y_train)\n",
    "y_pred = clf.predict(X_test)\n",
    "y_pred_prob = clf.predict(X_test, False)\n",
    "\n",
    "accuracy = accuracy_score(y_test, y_pred)\n",
    "sensitivity = recall_score(y_test, y_pred)\n",
    "tn, fp, fn, tp = confusion_matrix(y_test, y_pred).ravel()\n",
    "specificity = tn / (tn + fp)\n",
    "precision = precision_score(y_test, y_pred)\n",
    "f1 = f1_score(y_test, y_pred)\n",
    "auroc = roc_auc_score(y_test, y_pred_prob)\n",
    "aupr = average_precision_score(y_test, y_pred_prob)\n",
    "\n",
    "print(f\"Accuracy of Logistic Regression classifier: {accuracy:.4f}\")\n",
    "print(f\"Sensitivity (Recall): {sensitivity:.4f}\")\n",
    "print(f\"Specificity: {specificity:.4f}\")\n",
    "print(f\"Precision: {precision:.4f}\")\n",
    "print(f\"F1-score: {f1:.4f}\")\n",
    "print(f\"AUROC: {auroc:.4f}\")\n",
    "print(f\"AUPR: {aupr:.4f}\")"
   ]
  },
  {
   "cell_type": "markdown",
   "metadata": {},
   "source": [
    "## Majority Voting"
   ]
  },
  {
   "cell_type": "code",
   "execution_count": 48,
   "metadata": {},
   "outputs": [],
   "source": [
    "X_train, X_test, y_train, y_test = train_test_split(features, labels, test_size=0.2, random_state=42)\n",
    "\n",
    "y_train = y_train.to_numpy().ravel()\n",
    "y_test = y_test.to_numpy().ravel()\n",
    "\n",
    "clf = Bagging()\n",
    "clf.train(X_train, y_train)\n",
    "y_pred = clf.predict_majority(X_test)\n",
    "y_pred_prob = clf.predict_prob(X_test)\n",
    "\n",
    "majority_accuracy = accuracy_score(y_test, y_pred)\n",
    "majority_sensitivity = recall_score(y_test, y_pred)\n",
    "tn, fp, fn, tp = confusion_matrix(y_test, y_pred).ravel()\n",
    "majority_specificity = tn / (tn + fp)\n",
    "majority_precision = precision_score(y_test, y_pred)\n",
    "majority_f1 = f1_score(y_test, y_pred)\n",
    "majority_auroc = roc_auc_score(y_test, y_pred_prob)\n",
    "majority_aupr = average_precision_score(y_test, y_pred_prob)"
   ]
  },
  {
   "cell_type": "markdown",
   "metadata": {},
   "source": [
    "## Violin Plot"
   ]
  },
  {
   "cell_type": "code",
   "execution_count": 49,
   "metadata": {},
   "outputs": [
    {
     "data": {
      "text/plain": [
       "<Axes: xlabel='Metrics', ylabel='Model Performance'>"
      ]
     },
     "execution_count": 49,
     "metadata": {},
     "output_type": "execute_result"
    },
    {
     "data": {
      "image/png": "[encoded data removed]",
      "text/plain": [
       "<Figure size 1500x2000 with 1 Axes>"
      ]
     },
     "metadata": {},
     "output_type": "display_data"
    }
   ],
   "source": [
    "import seaborn as sns\n",
    "tips_prob = clf.predict(X_test, False)\n",
    "tips_rounded = clf.predict(X_test)\n",
    "accuracies = []\n",
    "sensitivities= []\n",
    "specificities = []\n",
    "precisions = []\n",
    "f1_s = []\n",
    "auroc_s = []\n",
    "aupr_s = []\n",
    "for i in range(tips_rounded.shape[0]):\n",
    "    accuracies.append(accuracy_score(y_test, tips_rounded[i]))\n",
    "    sensitivities.append(recall_score(y_test, tips_rounded[i]))\n",
    "    tn, fp, fn, tp = confusion_matrix(y_test, tips_rounded[i]).ravel()\n",
    "    specificities.append(tn / (tn + fp))\n",
    "    precisions.append(precision_score(y_test, tips_rounded[i]))\n",
    "    f1_s.append(f1_score(y_test, tips_rounded[i]))\n",
    "    auroc_s.append(roc_auc_score(y_test, tips_prob[i]))\n",
    "    aupr_s.append(average_precision_score(y_test, tips_prob[i]))\n",
    "\n",
    "tips = np.array([accuracies, sensitivities, specificities, precisions, f1_s, auroc_s, aupr_s]).T  \n",
    "tips = pd.DataFrame(tips, columns=['Accuracy', 'Sensitivity', 'Specificity', 'Precision', 'F1 Score', 'AUROC', 'AUPR'])\n",
    "tips = tips.melt(var_name='Metrics', value_name='Model Performance')\n",
    "plt.figure(figsize=(15, 20))\n",
    "sns.violinplot(x=\"Metrics\", y=\"Model Performance\", data=tips, hue=\"Metrics\", palette=\"Set3\", legend=False)"
   ]
  },
  {
   "cell_type": "markdown",
   "metadata": {},
   "source": [
    "## Emsemble Learning / Stacking"
   ]
  },
  {
   "cell_type": "code",
   "execution_count": 50,
   "metadata": {},
   "outputs": [],
   "source": [
    "\n",
    "X_train, X_test, y_train, y_test = train_test_split(features, labels, test_size=0.2, random_state=42)\n",
    "X_train, X_meta, y_train, y_meta = train_test_split(X_train, y_train, test_size=0.2, random_state=42)\n",
    "\n",
    "y_train = y_train.to_numpy().ravel()\n",
    "y_test = y_test.to_numpy().ravel()\n",
    "y_meta = y_meta.to_numpy().ravel()\n",
    "\n",
    "clf = Stacking()\n",
    "clf.train(X_train, y_train, X_meta, y_meta)\n",
    "y_pred = clf.predict(X_test)\n",
    "y_pred_prob = clf.predict(X_test, False)\n",
    "\n",
    "stacking_accuracy = accuracy_score(y_test, y_pred)\n",
    "stacking_sensitivity = recall_score(y_test, y_pred)\n",
    "tn, fp, fn, tp = confusion_matrix(y_test, y_pred).ravel()\n",
    "stacking_specificity = tn / (tn + fp)\n",
    "stacking_precision = precision_score(y_test, y_pred)\n",
    "stacking_f1 = f1_score(y_test, y_pred)\n",
    "stacking_auroc = roc_auc_score(y_test, y_pred_prob)\n",
    "stacking_aupr = average_precision_score(y_test, y_pred_prob)"
   ]
  },
  {
   "cell_type": "markdown",
   "metadata": {},
   "source": [
    "## Tabular Result"
   ]
  },
  {
   "cell_type": "code",
   "execution_count": 51,
   "metadata": {},
   "outputs": [
    {
     "name": "stdout",
     "output_type": "stream",
     "text": [
      "+---+-------------------+-----------------+-----------------+-----------------+-----------------+-----------------+-----------------+-----------------+\n",
      "|   |                   |    Accuracy     |   Sensitivity   |   Specificity   |    Precision    |    F1-score     |      AUROC      |      AUPR       |\n",
      "+---+-------------------+-----------------+-----------------+-----------------+-----------------+-----------------+-----------------+-----------------+\n",
      "| 0 |        LR*        | 0.7957 ± 0.0016 | 0.5306 ± 0.0182 | 0.8844 ± 0.0048 | 0.6054 ± 0.0033 | 0.5654 ± 0.0098 | 0.8431 ± 0.0009 | 0.6087 ± 0.0040 |\n",
      "| 1 |  Voting ensemble  |     0.7929      |     0.5256      |     0.8822      |     0.5987      |     0.5598      |     0.8440      |     0.6084      |\n",
      "| 2 | Stacking ensemble |     0.7950      |     0.5511      |     0.8765      |     0.5988      |     0.5740      |     0.8344      |     0.5974      |\n",
      "+---+-------------------+-----------------+-----------------+-----------------+-----------------+-----------------+-----------------+-----------------+\n"
     ]
    }
   ],
   "source": [
    "from tabulate import tabulate\n",
    "\n",
    "table = {\n",
    "    ' ': ['LR*', 'Voting ensemble', 'Stacking ensemble'],\n",
    "    'Accuracy': [f'{np.mean(accuracies):.4f} ± {np.std(accuracies):.4f}', f'{majority_accuracy:.4f}', f'{stacking_accuracy:.4f}'],\n",
    "    'Sensitivity': [f'{np.mean(sensitivities):.4f} ± {np.std(sensitivities):.4f}', f'{majority_sensitivity:.4f}', f'{stacking_sensitivity:.4f}'],\n",
    "    'Specificity': [f'{np.mean(specificities):.4f} ± {np.std(specificities):.4f}', f'{majority_specificity:.4f}', f'{stacking_specificity:.4f}'],\n",
    "    'Precision': [f'{np.mean(precisions):.4f} ± {np.std(precisions):.4f}', f'{majority_precision:.4f}', f'{stacking_precision:.4f}'],\n",
    "    'F1-score': [f'{np.mean(f1_s):.4f} ± {np.std(f1_s):.4f}', f'{majority_f1:.4f}', f'{stacking_f1:.4f}'],\n",
    "    'AUROC': [f'{np.mean(auroc_s):.4f} ± {np.std(auroc_s):.4f}', f'{majority_auroc:.4f}', f'{stacking_auroc:.4f}'],\n",
    "    'AUPR': [f'{np.mean(aupr_s):.4f} ± {np.std(aupr_s):.4f}', f'{majority_aupr:.4f}', f'{stacking_aupr:.4f}']\n",
    "}\n",
    "\n",
    "table = pd.DataFrame(table)\n",
    "\n",
    "print(tabulate(table, headers='keys', tablefmt='pretty'))\n"
   ]
  }
 ],
 "metadata": {
  "kernelspec": {
   "display_name": "Python 3",
   "language": "python",
   "name": "python3"
  },
  "language_info": {
   "codemirror_mode": {
    "name": "ipython",
    "version": 3
   },
   "file_extension": ".py",
   "mimetype": "text/x-python",
   "name": "python",
   "nbconvert_exporter": "python",
   "pygments_lexer": "ipython3",
   "version": "3.12.3"
  }
 },
 "nbformat": 4,
 "nbformat_minor": 2
}
